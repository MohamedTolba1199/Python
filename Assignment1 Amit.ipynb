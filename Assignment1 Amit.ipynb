{
 "cells": [
  {
   "cell_type": "markdown",
   "id": "4beb4204",
   "metadata": {},
   "source": [
    "# Assignment\n",
    "\n",
    "# Mo.Tolba"
   ]
  },
  {
   "cell_type": "markdown",
   "id": "efe1469b",
   "metadata": {},
   "source": [
    "## Task 1\n"
   ]
  },
  {
   "cell_type": "code",
   "execution_count": 1,
   "id": "5336e6f7",
   "metadata": {},
   "outputs": [
    {
     "name": "stdout",
     "output_type": "stream",
     "text": [
      "PLZ Enter the capital Mass :6e24\n",
      "PLZ Enter the small mass :7.34e22\n",
      "PLZ Enter the reduis :3.84e8\n",
      "the Gravitational Force is1.9920979817708333e+20 \n"
     ]
    }
   ],
   "source": [
    "\n",
    "M=float(input(\"PLZ Enter the capital Mass :\"))\n",
    "m=float(input(\"PLZ Enter the small mass :\"))\n",
    "r=float(input(\"PLZ Enter the reduis :\"))\n",
    "24\n",
    "G=6.67*(10**-11)\n",
    "F=(G*M*m)/(r**2)\n",
    "\n",
    "\n",
    "print(f\"the Gravitational Force is{F} \")"
   ]
  },
  {
   "cell_type": "markdown",
   "id": "c3fbc0df",
   "metadata": {},
   "source": [
    "\n",
    "## Task 2"
   ]
  },
  {
   "cell_type": "code",
   "execution_count": 5,
   "id": "7a585cfa",
   "metadata": {},
   "outputs": [
    {
     "name": "stdout",
     "output_type": "stream",
     "text": [
      "FizzBuzz\n",
      "Buzz\n",
      "Buzz\n",
      "Fizz\n",
      "Buzz\n",
      "Buzz\n",
      "Fizz\n",
      "Buzz\n",
      "Buzz\n",
      "Fizz\n",
      "Buzz\n",
      "Buzz\n",
      "Fizz\n",
      "Buzz\n",
      "Buzz\n",
      "FizzBuzz\n",
      "Buzz\n",
      "Buzz\n",
      "Fizz\n",
      "Buzz\n",
      "Buzz\n",
      "Fizz\n",
      "Buzz\n",
      "Buzz\n",
      "Fizz\n",
      "Buzz\n",
      "Buzz\n",
      "Fizz\n",
      "Buzz\n",
      "Buzz\n",
      "FizzBuzz\n",
      "Buzz\n",
      "Buzz\n",
      "Fizz\n",
      "Buzz\n",
      "Buzz\n",
      "Fizz\n",
      "Buzz\n",
      "Buzz\n",
      "Fizz\n",
      "Buzz\n",
      "Buzz\n",
      "Fizz\n",
      "Buzz\n",
      "Buzz\n",
      "FizzBuzz\n",
      "Buzz\n",
      "Buzz\n",
      "Fizz\n",
      "Buzz\n",
      "Buzz\n",
      "Fizz\n",
      "Buzz\n",
      "Buzz\n",
      "Fizz\n",
      "Buzz\n",
      "Buzz\n",
      "Fizz\n",
      "Buzz\n",
      "Buzz\n",
      "FizzBuzz\n",
      "Buzz\n",
      "Buzz\n",
      "Fizz\n",
      "Buzz\n",
      "Buzz\n",
      "Fizz\n",
      "Buzz\n",
      "Buzz\n",
      "Fizz\n",
      "Buzz\n",
      "Buzz\n",
      "Fizz\n",
      "Buzz\n",
      "Buzz\n",
      "FizzBuzz\n",
      "Buzz\n",
      "Buzz\n",
      "Fizz\n",
      "Buzz\n",
      "Buzz\n",
      "Fizz\n",
      "Buzz\n",
      "Buzz\n",
      "Fizz\n",
      "Buzz\n",
      "Buzz\n",
      "Fizz\n",
      "Buzz\n",
      "Buzz\n",
      "FizzBuzz\n",
      "Buzz\n",
      "Buzz\n",
      "Fizz\n",
      "Buzz\n",
      "Buzz\n",
      "Fizz\n",
      "Buzz\n",
      "Buzz\n",
      "Fizz\n",
      "End loop \n"
     ]
    }
   ],
   "source": [
    "for x in range(100):\n",
    "    \n",
    "\n",
    "    if (x%3==0 and x%5==0):\n",
    "        print(\"FizzBuzz\")\n",
    "    elif x%3==0:\n",
    "        print(\"Fizz\")\n",
    "    else:\n",
    "        print(\"Buzz\")\n",
    "        \n",
    "print(\"End loop \")            "
   ]
  },
  {
   "cell_type": "code",
   "execution_count": null,
   "id": "94e570cb",
   "metadata": {},
   "outputs": [],
   "source": []
  },
  {
   "cell_type": "code",
   "execution_count": null,
   "id": "d8d18256",
   "metadata": {},
   "outputs": [],
   "source": []
  }
 ],
 "metadata": {
  "kernelspec": {
   "display_name": "Python 3 (ipykernel)",
   "language": "python",
   "name": "python3"
  },
  "language_info": {
   "codemirror_mode": {
    "name": "ipython",
    "version": 3
   },
   "file_extension": ".py",
   "mimetype": "text/x-python",
   "name": "python",
   "nbconvert_exporter": "python",
   "pygments_lexer": "ipython3",
   "version": "3.9.7"
  }
 },
 "nbformat": 4,
 "nbformat_minor": 5
}
